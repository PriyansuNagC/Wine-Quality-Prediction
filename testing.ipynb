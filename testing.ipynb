{
 "cells": [
  {
   "cell_type": "code",
   "execution_count": 1,
   "id": "244f718f",
   "metadata": {},
   "outputs": [],
   "source": [
    "from joblib import dump , load\n",
    "import numpy as np\n",
    "model = load('test.joblib')"
   ]
  },
  {
   "cell_type": "code",
   "execution_count": 4,
   "id": "cd36c863",
   "metadata": {},
   "outputs": [
    {
     "data": {
      "text/plain": [
       "array([0.07423697])"
      ]
     },
     "execution_count": 4,
     "metadata": {},
     "output_type": "execute_result"
    }
   ],
   "source": [
    "fet = np.array([[-2.58425314,  4.35158814, -5.05163671, -0.47465971, 1.20290682,\n",
    "       -0.50042238, 1.78693571]])\n",
    "model.predict(fet)"
   ]
  },
  {
   "cell_type": "code",
   "execution_count": null,
   "id": "2ebadfd9",
   "metadata": {},
   "outputs": [],
   "source": []
  }
 ],
 "metadata": {
  "kernelspec": {
   "display_name": "Python 3 (ipykernel)",
   "language": "python",
   "name": "python3"
  },
  "language_info": {
   "codemirror_mode": {
    "name": "ipython",
    "version": 3
   },
   "file_extension": ".py",
   "mimetype": "text/x-python",
   "name": "python",
   "nbconvert_exporter": "python",
   "pygments_lexer": "ipython3",
   "version": "3.11.4"
  }
 },
 "nbformat": 4,
 "nbformat_minor": 5
}
